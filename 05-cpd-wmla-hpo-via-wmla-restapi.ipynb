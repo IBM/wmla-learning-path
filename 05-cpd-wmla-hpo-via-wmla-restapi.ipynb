{
 "cells": [
  {
   "cell_type": "markdown",
   "metadata": {},
   "source": [
    "# Automated Hyperparameter Optimization Training using WMLA API\n",
    "\n",
    "&nbsp;\n",
    "&nbsp;\n",
    "&nbsp;\n",
    "&nbsp;\n",
    "&nbsp;\n",
    "\n",
    "\n",
    "![options](https://github.com/IBM/wmla-learning-path/raw/master/shared-images/WMLA-RestAPI-Demo.png)"
   ]
  },
  {
   "cell_type": "markdown",
   "metadata": {},
   "source": [
    "\n",
    "\n",
    "![SpectrumComputeFamily_Conductor-HorizontalColorWhite.png](https://raw.githubusercontent.com/IBM/wmla-learning-path/master/shared-images/hpo.png)\n",
    "\n",
    "In this notebook you will learn how to submit a model and dataset to the Watson Machine Learning Accelerator (WMLA) API to run Hyper Parameter Optimization (HPO).  \n",
    "\n",
    "For this notebook you will use a model and dataset that have already been setup to leverage the API.  For details on the API see this link in the Knowledge Center (KC).\n",
    "\n",
    "[API Documentation](https://www.ibm.com/support/knowledgecenter/en/SSFHA8_1.2.1/cm/deeplearning.html)"
   ]
  },
  {
   "cell_type": "code",
   "execution_count": 11,
   "metadata": {},
   "outputs": [
    {
     "name": "stdout",
     "output_type": "stream",
     "text": [
      "--2020-07-16 20:15:46--  https://github.com/IBM/wmla-learning-path/raw/master/datasets/pytorch-mnist-hpo.modelDir.tar\n",
      "Resolving github.com (github.com)... 140.82.114.4\n",
      "Connecting to github.com (github.com)|140.82.114.4|:443... connected.\n",
      "HTTP request sent, awaiting response... 302 Found\n",
      "Location: https://raw.githubusercontent.com/IBM/wmla-learning-path/master/datasets/pytorch-mnist-hpo.modelDir.tar [following]\n",
      "--2020-07-16 20:15:47--  https://raw.githubusercontent.com/IBM/wmla-learning-path/master/datasets/pytorch-mnist-hpo.modelDir.tar\n",
      "Resolving raw.githubusercontent.com (raw.githubusercontent.com)... 199.232.36.133\n",
      "Connecting to raw.githubusercontent.com (raw.githubusercontent.com)|199.232.36.133|:443... connected.\n",
      "HTTP request sent, awaiting response... 200 OK\n",
      "Length: 2587 (2.5K) [application/octet-stream]\n",
      "Saving to: 'pytorch-mnist-hpo.modelDir.tar.1'\n",
      "\n",
      "100%[======================================>] 2,587       --.-K/s   in 0s      \n",
      "\n",
      "2020-07-16 20:15:47 (29.4 MB/s) - 'pytorch-mnist-hpo.modelDir.tar.1' saved [2587/2587]\n",
      "\n"
     ]
    }
   ],
   "source": [
    "!wget https://github.com/IBM/wmla-learning-path/raw/master/datasets/pytorch-mnist-hpo.modelDir.tar"
   ]
  },
  {
   "cell_type": "markdown",
   "metadata": {},
   "source": [
    "## Imports\n",
    "\n",
    "To use the WMLA API, we will be using the python requests library"
   ]
  },
  {
   "cell_type": "code",
   "execution_count": 12,
   "metadata": {
    "ExecuteTime": {
     "end_time": "2020-05-29T14:11:35.863409Z",
     "start_time": "2020-05-29T14:11:35.439838Z"
    }
   },
   "outputs": [],
   "source": [
    "import requests\n",
    "from requests.packages.urllib3.exceptions import InsecureRequestWarning\n",
    "requests.packages.urllib3.disable_warnings(InsecureRequestWarning)\n",
    "\n",
    "import json\n",
    "import time\n",
    "import urllib\n",
    "import pandas as pd\n",
    "import os,sys\n",
    "import tarfile\n",
    "import tempfile\n",
    "from IPython.display import clear_output\n",
    "import time\n",
    "import pprint\n",
    "\n",
    "# utility print function\n",
    "def nprint(mystring) :\n",
    "    print(\"**{}** : {}\".format(sys._getframe(1).f_code.co_name,mystring))\n",
    "\n",
    "# utility makedir\n",
    "def makeDirIfNotExist(directory) :\n",
    "    if not os.path.exists(directory):  \n",
    "        nprint(\"Making directory {}\".format(directory))\n",
    "        os.makedirs(directory) \n",
    "    else :\n",
    "        nprint(\"Directory {} already exists .. \".format(directory))\n"
   ]
  },
  {
   "cell_type": "markdown",
   "metadata": {},
   "source": [
    "## Environment details and Project Config:"
   ]
  },
  {
   "cell_type": "code",
   "execution_count": 13,
   "metadata": {
    "ExecuteTime": {
     "end_time": "2020-05-29T14:12:10.675602Z",
     "start_time": "2020-05-29T14:12:10.667892Z"
    }
   },
   "outputs": [],
   "source": [
    "def getconfig(cfg_in={}):\n",
    "    cfg = {}\n",
    "    cfg[\"master_host\"] = 'https://dse-ac922h.cpolab.ibm.com'\n",
    "    cfg[\"dli_rest_port\"] = '9243'\n",
    "    cfg[\"sc_rest_port\"] = '8643'\n",
    "    cfg[\"num_images\"] = {\"train\":200,\"valid\":20,\"test\":20}\n",
    "    # ==== CLASS ENTER User login details below =====\n",
    "    cfg[\"wmla_user\"] = 'Admin'  # <=enter your id here\n",
    "    cfg[\"wmla_pwd\"] = 'Admin'  # <=enter your pwd here\n",
    "    # ==== CLASS ENTER User login details above =====\n",
    "    cfg[\"sig_name\"]  = 'SIG-DSE'\n",
    "    cfg[\"code_dir\"] = \"/home/wsuser/works/pytorch_hpo\"\n",
    "\n",
    "    # overwrite configs if passed\n",
    "    for (k,v) in cfg_in.items() :\n",
    "        nprint(\"Overriding Config {}:{} with {}\".format(k,cfg[k],v))\n",
    "        cfg[k] = v\n",
    "    return cfg\n",
    "\n",
    "# cfg is used as a global variable throughout this notebook\n",
    "cfg=getconfig()"
   ]
  },
  {
   "cell_type": "code",
   "execution_count": 14,
   "metadata": {
    "ExecuteTime": {
     "end_time": "2020-05-29T14:12:14.952471Z",
     "start_time": "2020-05-29T14:12:14.941641Z"
    }
   },
   "outputs": [
    {
     "name": "stdout",
     "output_type": "stream",
     "text": [
      "SC API Endpoints : https://dse-ac922h.cpolab.ibm.com:8643/platform/rest/conductor/v1\n",
      "DL API Endpoints : https://dse-ac922h.cpolab.ibm.com:9243/platform/rest/deeplearning/v1\n",
      "('Admin', 'Admin')\n",
      "/home/wsuser/work/pytorch-mnist-hpo.modelDir.tar\n"
     ]
    }
   ],
   "source": [
    "# REST call variables\n",
    "commonHeaders = {'Accept': 'application/json'}\n",
    "\n",
    "# Use closures for cfg for now ..\n",
    "def get_tmp_dir() :\n",
    "    #return \"/gpfs/home/s4s004/\"+cfg[\"wmla_user\"]+\"/2020-05-wmla/tmp\"\n",
    "    return \"/home/wsuser/work\"\n",
    "def get_tar_file() :\n",
    "    #return get_tmp_dir() + \"/\" + cfg[\"wmla_user\"]+\".modelDir.tar\"\n",
    "    return get_tmp_dir() + \"/pytorch-mnist-hpo.modelDir.tar\"\n",
    "\n",
    "#get api endpoint\n",
    "def get_ep(mode=\"sc\") :\n",
    "    if mode==\"sc\" :\n",
    "        sc_rest_url =  cfg[\"master_host\"] +':'+ cfg[\"sc_rest_port\"] +'/platform/rest/conductor/v1'\n",
    "        return sc_rest_url\n",
    "    elif(mode==\"dl\") :\n",
    "        dl_rest_url = cfg[\"master_host\"] +':'+cfg[\"dli_rest_port\"] +'/platform/rest/deeplearning/v1'\n",
    "        return dl_rest_url\n",
    "    else :\n",
    "        nprint(\"Error mode : {} not supported\".format(mode))\n",
    "\n",
    "def myauth():\n",
    "    return(cfg[\"wmla_user\"],cfg[\"wmla_pwd\"])\n",
    "\n",
    "print (\"SC API Endpoints : {}\".format(get_ep(\"sc\")))\n",
    "print (\"DL API Endpoints : {}\".format(get_ep(\"dl\")))\n",
    "print (myauth())\n",
    "print (get_tar_file())\n",
    "#myauth = (wmla_user, wmla_pwd)\n",
    "\n",
    "# Setup Requests session\n",
    "req = requests.Session()"
   ]
  },
  {
   "cell_type": "markdown",
   "metadata": {},
   "source": [
    "## Health Check"
   ]
  },
  {
   "cell_type": "markdown",
   "metadata": {},
   "source": [
    "Check if there is any existing hpo tasks and also verify the platform health"
   ]
  },
  {
   "cell_type": "markdown",
   "metadata": {},
   "source": [
    "Rest API: **GET platform/rest/deeplearning/v1/hypersearch**\n",
    "- Description: Get all the hpo task that the login user can access.\n",
    "- OUTPUT: A list of hpo tasks and each one with the same format which can be found in the api doc."
   ]
  },
  {
   "cell_type": "code",
   "execution_count": 15,
   "metadata": {
    "ExecuteTime": {
     "end_time": "2020-05-29T14:12:20.514534Z",
     "start_time": "2020-05-29T14:12:20.355413Z"
    }
   },
   "outputs": [
    {
     "name": "stdout",
     "output_type": "stream",
     "text": [
      "**hpo_health_check** : getTuneStatusUrl: https://dse-ac922h.cpolab.ibm.com:9243/platform/rest/deeplearning/v1/hypersearch\n",
      "**hpo_health_check** : Hpo task: Admin-hpo-16650377032674085, State: FINISHED\n",
      "**hpo_health_check** : Hpo task: Admin-hpo-16652311451466531, State: FINISHED\n",
      "**hpo_health_check** : Hpo task: Admin-hpo-16709092768652198, State: FINISHED\n",
      "**hpo_health_check** : Hpo task: Admin-hpo-16783740796460860, State: FINISHED\n",
      "**hpo_health_check** : Hpo task: Admin-hpo-16797156948888025, State: FINISHED\n",
      "**hpo_health_check** : Hpo task: Admin-hpo-16899927798480429, State: FINISHED\n",
      "**hpo_health_check** : Hpo task: Admin-hpo-16901184356247510, State: FINISHED\n",
      "**hpo_health_check** : Hpo task: Admin-hpo-17306812964985375, State: FINISHED\n",
      "**hpo_health_check** : Hpo task: Admin-hpo-17310278053357251, State: FINISHED\n",
      "**hpo_health_check** : Hpo task: Admin-hpo-17550982147791472, State: FINISHED\n",
      "**hpo_health_check** : Hpo task: Admin-hpo-17555313438664566, State: FINISHED\n",
      "**hpo_health_check** : Hpo task: Admin-hpo-17560726377924202, State: FINISHED\n",
      "**hpo_health_check** : Hpo task: Admin-hpo-17573148316548770, State: FINISHED\n",
      "**hpo_health_check** : Hpo task: Admin-hpo-17628936593704037, State: FINISHED\n",
      "**hpo_health_check** : Hpo task: Admin-hpo-17629774801701135, State: FINISHED\n",
      "**hpo_health_check** : Hpo task: Admin-hpo-17631874731694269, State: FINISHED\n",
      "**hpo_health_check** : Hpo task: Admin-hpo-17635507483205835, State: FINISHED\n",
      "**hpo_health_check** : Hpo task: Admin-hpo-17638515939773748, State: FINISHED\n",
      "**hpo_health_check** : Hpo task: Admin-hpo-18505640530966511, State: FINISHED\n",
      "**hpo_health_check** : Hpo task: Admin-hpo-18583667594558061, State: FINISHED\n",
      "**hpo_health_check** : Hpo task: Admin-hpo-18589228286638510, State: FINISHED\n",
      "**hpo_health_check** : Hpo task: Admin-hpo-18774434951753245, State: FINISHED\n",
      "**hpo_health_check** : Hpo task: Admin-hpo-20018747584473295, State: FINISHED\n",
      "**hpo_health_check** : Hpo task: Admin-hpo-20590710455421786, State: FINISHED\n"
     ]
    }
   ],
   "source": [
    "def hpo_health_check():\n",
    "    getTuneStatusUrl = get_ep(\"dl\") + '/hypersearch'\n",
    "    nprint ('getTuneStatusUrl: %s' %getTuneStatusUrl)\n",
    "    r = req.get(getTuneStatusUrl, headers=commonHeaders, verify=False, auth=myauth())\n",
    "    \n",
    "    if not r.ok:\n",
    "        nprint('check hpo task status failed: code=%s, %s'%(r.status_code, r.content))\n",
    "    else:\n",
    "        if len(r.json()) == 0:\n",
    "            nprint('There is no hpo task been created')\n",
    "        for item in r.json():\n",
    "            nprint('Hpo task: %s, State: %s'%(item['hpoName'], item['state']))\n",
    "            #print('Best:%s'%json.dumps(item.get('best'), sort_keys=True, indent=4))\n",
    "\n",
    "hpo_health_check()\n"
   ]
  },
  {
   "cell_type": "markdown",
   "metadata": {},
   "source": [
    "## Changes to your code\n",
    "\n",
    "**Developer** Note The WMLA framework requires 2 changes to your code to support the HPO API, these are :\n",
    "\n",
    "* Inject hyper-parameters for the sub-training during search\n",
    "* Retrieve sub-training result metric\n",
    "\n",
    "Note that the code sections below show a comparison between the \"before\" and \"HPO enabled\" versions of the code using `diff`.\n",
    "\n",
    "\n",
    "1. Import the dependent libararies:\n",
    "\n",
    "&nbsp;\n",
    "&nbsp;\n",
    "![image1](https://github.com/IBM/wmla-learning-path/raw/dev/shared-images/hpo_update_model_0.png)\n",
    "&nbsp;\n",
    "&nbsp;\n",
    "\n",
    "2. Get the WMLA cluster DLI_DATA_FS, RESULT_DIR and LOG_DIR for the hpo training job. The DLI_DATA_FS could be used for shared data placement, the RESULT_DIR can be used for final model saving, and the LOG_DIR can be used for user logs and monitoring.\n",
    "\n",
    "&nbsp;\n",
    "Note: DLI_DATA_FS is set when install DLI cluster; RESULT_DIR and LOG_DIR is generated by WMLA for each HPO experiment.\n",
    "\n",
    "&nbsp;\n",
    "&nbsp;\n",
    "![image1](https://github.com/IBM/wmla-learning-path/raw/dev/shared-images/hpo_update_model_1.png)\n",
    "&nbsp;\n",
    "&nbsp;\n",
    "\n",
    "3. Replace the hyperparameter definition code by reading hyperparameters from the `config.json` file. the `config.json` is generated by WMLA HPO, which contains a set of hyperparameter candidates for each tuning jobs. The hyperparameters and the search space is defined when submitting the HPO task. For example, here the hyperparameter learning_rate is set to tune:\n",
    "\n",
    "&nbsp;\n",
    "&nbsp;\n",
    "![image2](https://github.com/IBM/wmla-learning-path/raw/dev/shared-images/hpo_update_model_2.png)\n",
    "\n",
    "&nbsp;\n",
    "Then you could use the hyperparameter you get from `config.json` where you want:\n",
    "&nbsp;\n",
    "![image2](https://github.com/IBM/wmla-learning-path/raw/dev/shared-images/hpo_update_model_2_2.png)\n",
    "&nbsp;\n",
    "&nbsp;\n",
    "\n",
    "4.  Write the tuning result into `val_dict_list.json` under RESULT_DIR. WMLA HPO will read this file for each tuning job to get the metric values. Define a test_metrics list to store all metric values and pass the epoch parameter to the test function. Then you could add the metric values to the test_metrics list during the training test process. Please note that the metric names should be specified when submitting the HPO task, and be consitent with the code here.\n",
    "&nbsp;\n",
    "For example, the HPO task submit request, `loss` will be used as the objective metric the tuning will try to minimize the `loss`:\n",
    "\n",
    "```\n",
    "'algoDef': # Define the parameters for search algorithms  \n",
    "{\n",
    "    # Name of the search algorithm, one of Random, Bayesian, Tpe, Hyperband  \n",
    "    'algorithm': 'Random',   \n",
    "    # Name of the target metric that we are trying to optimize when searching hyper-parameters.\n",
    "    # It is the same metric name that the model update part 2 trying to dump.\n",
    "    'objectiveMetric' : 'loss',\n",
    "    # Strategy as how to optimize the hyper-parameters, minimize means to find better hyper-parameters to\n",
    "    # make the above objectiveMetric as small as possible, maximize means the opposite.\n",
    "    'objective' : 'minimize',\n",
    "    ...\n",
    "}\n",
    "```\n",
    "&nbsp;\n",
    "The code change:\n",
    "\n",
    "&nbsp;\n",
    "&nbsp;\n",
    "![image2](https://github.com/IBM/wmla-learning-path/raw/dev/shared-images/hpo_update_model_3.png)\n",
    "&nbsp;\n",
    "&nbsp;\n",
    "\n",
    "5. After the training complete, write the metric list into the `val_dict_list.json` file. \n",
    "&nbsp;\n",
    "&nbsp;\n",
    "![image2](https://github.com/IBM/wmla-learning-path/raw/dev/shared-images/hpo_update_model_5.png)\n",
    "&nbsp;\n",
    "&nbsp;\n",
    "\n"
   ]
  },
  {
   "cell_type": "markdown",
   "metadata": {},
   "source": [
    "### Launch HPO task"
   ]
  },
  {
   "cell_type": "markdown",
   "metadata": {},
   "source": [
    "Here we package up our model to send to the API for HPO.  Lets see how this works ...\n",
    "\n",
    "\n",
    "\n",
    "REST API: **POST /platform/rest/deeplearning/v1/hypersearch**\n",
    "- Description: Start a new HPO task\n",
    "- Content-type: Multi-Form\n",
    "- Multi-Form Data:\n",
    "  - files: Model files tar package, ending with `.modelDir.tar`\n",
    "  - form-filed: {‘data’: ‘String format of input parameters to start hpo task, let’s call it as **hpo_input** and show its specification later’}\n"
   ]
  },
  {
   "cell_type": "markdown",
   "metadata": {},
   "source": [
    "#### Package model files for training"
   ]
  },
  {
   "cell_type": "markdown",
   "metadata": {},
   "source": [
    "Package the updated model files into a tar file ending with `.modelDir.tar`\n",
    "\n",
    "REST API expects a modelDir.tar with the model code inside ..\n"
   ]
  },
  {
   "cell_type": "code",
   "execution_count": 16,
   "metadata": {},
   "outputs": [
    {
     "name": "stdout",
     "output_type": "stream",
     "text": [
      "Files : {'file': <_io.BufferedReader name='/home/wsuser/work/pytorch-mnist-hpo.modelDir.tar'>}\n"
     ]
    }
   ],
   "source": [
    "files = {'file': open(get_tar_file(), 'rb')}\n",
    "print(\"Files : {}\".format(files))"
   ]
  },
  {
   "cell_type": "markdown",
   "metadata": {},
   "source": [
    "#### Construct POST request data"
   ]
  },
  {
   "cell_type": "markdown",
   "metadata": {},
   "source": [
    "**hpo_input** will be a Python dict or json format as below, convert to string when calling REST."
   ]
  },
  {
   "cell_type": "code",
   "execution_count": 17,
   "metadata": {
    "ExecuteTime": {
     "end_time": "2020-05-29T14:13:06.385371Z",
     "start_time": "2020-05-29T14:13:06.376200Z"
    }
   },
   "outputs": [],
   "source": [
    "# Note, this \n",
    "data =  {\n",
    "        'modelSpec': # Define the model training related parameters\n",
    "        {\n",
    "            # Spark instance group which will be used to run the HPO sub-trainings. The Spark instance group selected\n",
    "            # here should match the sub-training args, for example, if the sub-training args try to run a EDT job,\n",
    "            # then we should put a Spark instance group with capability to run EDT job here.\n",
    "            'sigName': cfg[\"sig_name\"],\n",
    "\n",
    "            # These are the arguments we'll pass to the execution engine; they follow the same conventions\n",
    "            # of the dlicmd.py command line launcher\n",
    "            #\n",
    "            # See:\n",
    "            #   https://www.ibm.com/support/knowledgecenter/en/SSFHA8_1.2.1/cm/dlicmd.html\n",
    "            # In this example, args after --model-dir are all the required parameter for the original model itself.\n",
    "            #\n",
    "            'args': '--exec-start PyTorch --cs-datastore-meta type=fs --python-version 3.6\\\n",
    "                     --gpuPerWorker 1 --model-main pytorch_mnist_HPO.py --model-dir pytorch_hpo\\\n",
    "                     --debug-level debug'\n",
    "                \n",
    "        },\n",
    "    \n",
    "        'algoDef': # Define the parameters for search algorithms\n",
    "        {\n",
    "            # Name of the search algorithm, one of Random, Bayesian, Tpe, Hyperband, ExperimentGridSearch\n",
    "            'algorithm': 'Random', \n",
    "            # Max running time of the hpo task in minutes, -1 means unlimited\n",
    "            'maxRunTime': 60,  \n",
    "            # Max number of training job to submitted for hpo task, -1 means unlimited’,\n",
    "            'maxJobNum': 4,            \n",
    "            # Max number of training job to run in parallel, default 1. It depends on both the\n",
    "            # avaiable resource and if the search algorithm support to run in parallel, current only Random\n",
    "            # fully supports to run in parallel, Hyperband and Tpe supports to to in parellel in some phase,\n",
    "            # Bayesian runs in sequence now.\n",
    "            'maxParalleJobNum': 4, \n",
    "            # Name of the target metric that we are trying to optimize when searching hyper-parameters.\n",
    "            # It is the same metric name that the model update part 2 trying to dump.\n",
    "            'objectiveMetric' : 'loss',\n",
    "            # Strategy as how to optimize the hyper-parameters, minimize means to find better hyper-parameters to\n",
    "            # make the above objectiveMetric as small as possible, maximize means the opposite.\n",
    "            'objective' : 'minimize',\n",
    "        },\n",
    "    \n",
    "        # Define the hyper-paremeters to search and the corresponding search space.\n",
    "        'hyperParams':\n",
    "        [\n",
    "             {\n",
    "                 # Hyperparameter name, which will be the hyper-parameter key in config.json\n",
    "                 'name': 'learning_rate',\n",
    "                 # One of Range, Discrete\n",
    "                 'type': 'Range',\n",
    "                 # one of int, double, str\n",
    "                 'dataType': 'DOUBLE',\n",
    "                 # lower bound and upper bound when type=range and dataType=double\n",
    "                 'minDbVal': 0.001,\n",
    "                 'maxDbVal': 0.1,\n",
    "                 # lower bound and upper bound when type=range and dataType=int\n",
    "                 'minIntVal': 0,\n",
    "                 'maxIntVal': 0,\n",
    "                 # Discrete value list when type=discrete\n",
    "                 'discreteDbVal': [],\n",
    "                 'discreteIntVal': [],\n",
    "                 'discreateStrVal': []\n",
    "                 #step size to split the Range space. ONLY valid when type is Range\n",
    "                 #'step': '0.002',\n",
    "             }\n",
    "         ]\n",
    "    }\n",
    "mydata={'data':json.dumps(data)}"
   ]
  },
  {
   "cell_type": "markdown",
   "metadata": {},
   "source": [
    "#### Submit the Post request"
   ]
  },
  {
   "cell_type": "markdown",
   "metadata": {},
   "source": [
    "Submit hpo task through the Post call and a hpo name/id as string format will get back.\n",
    "\n",
    "**Note**:This cannot be submitted twice.. you need to rebuild the tar file prior to resubmitting"
   ]
  },
  {
   "cell_type": "code",
   "execution_count": 18,
   "metadata": {
    "ExecuteTime": {
     "end_time": "2020-05-29T14:13:10.295370Z",
     "start_time": "2020-05-29T14:13:10.171662Z"
    }
   },
   "outputs": [
    {
     "name": "stdout",
     "output_type": "stream",
     "text": [
      "**submit_job** : startTuneUrl : https://dse-ac922h.cpolab.ibm.com:9243/platform/rest/deeplearning/v1/hypersearch\n",
      "**submit_job** : files : {'file': <_io.BufferedReader name='/home/wsuser/work/pytorch-mnist-hpo.modelDir.tar'>}\n",
      "**submit_job** : myauth() : ('Admin', 'Admin')\n",
      "\n",
      "Model submitted successfully: Admin-hpo-20596057193264056\n",
      "hpo_job_id : Admin-hpo-20596057193264056\n"
     ]
    }
   ],
   "source": [
    "def submit_job():\n",
    "    startTuneUrl=get_ep('dl') + '/hypersearch'\n",
    "    nprint(\"startTuneUrl : {}\".format(startTuneUrl))\n",
    "    nprint(\"files : {}\".format(files))\n",
    "    nprint(\"myauth() : {}\".format(myauth()))\n",
    "    #print(\"hpo_job_id : {}\".format(hpo_job_id))\n",
    "    r = req.post(startTuneUrl, headers=commonHeaders, data=mydata, files=files, verify=False, auth=myauth())\n",
    "    hpo_name=None\n",
    "    if r.ok:\n",
    "        hpo_name = r.json()\n",
    "        print ('\\nModel submitted successfully: {}'.format(hpo_name))\n",
    "        \n",
    "    else:\n",
    "        print('\\nModel submission failed with code={}, {}'. format(r.status_code, r.content))\n",
    "    return hpo_name\n",
    "\n",
    "hpo_job_id = submit_job()\n",
    "print(\"hpo_job_id : {}\".format(hpo_job_id))"
   ]
  },
  {
   "cell_type": "code",
   "execution_count": 19,
   "metadata": {
    "ExecuteTime": {
     "end_time": "2020-05-29T14:24:00.222987Z",
     "start_time": "2020-05-29T14:13:14.717531Z"
    }
   },
   "outputs": [
    {
     "name": "stdout",
     "output_type": "stream",
     "text": [
      "Refreshing every 10 seconds\n"
     ]
    },
    {
     "data": {
      "text/html": [
       "<div>\n",
       "<style scoped>\n",
       "    .dataframe tbody tr th:only-of-type {\n",
       "        vertical-align: middle;\n",
       "    }\n",
       "\n",
       "    .dataframe tbody tr th {\n",
       "        vertical-align: top;\n",
       "    }\n",
       "\n",
       "    .dataframe thead th {\n",
       "        text-align: right;\n",
       "    }\n",
       "</style>\n",
       "<table border=\"1\" class=\"dataframe\">\n",
       "  <thead>\n",
       "    <tr style=\"text-align: right;\">\n",
       "      <th></th>\n",
       "      <th>appId</th>\n",
       "      <th>driverId</th>\n",
       "      <th>endTime</th>\n",
       "      <th>hyperParams</th>\n",
       "      <th>id</th>\n",
       "      <th>maxiteration</th>\n",
       "      <th>metricVal</th>\n",
       "      <th>startTime</th>\n",
       "      <th>state</th>\n",
       "    </tr>\n",
       "  </thead>\n",
       "  <tbody>\n",
       "    <tr>\n",
       "      <th>0</th>\n",
       "      <td>Admin-20596059577795518-282955637</td>\n",
       "      <td>driver-20200716161930-0097-7194fc7f-9631-4492-b8ab-0545f937b740</td>\n",
       "      <td>2020-07-16 16:23:57</td>\n",
       "      <td>[{'name': 'learning_rate', 'dataType': 'double', 'userDefined': False, 'fixedVal': '0.03346157010939412'}]</td>\n",
       "      <td>0</td>\n",
       "      <td>0</td>\n",
       "      <td>0.068464</td>\n",
       "      <td>2020-07-16 16:19:30</td>\n",
       "      <td>FINISHED</td>\n",
       "    </tr>\n",
       "    <tr>\n",
       "      <th>1</th>\n",
       "      <td>Admin-20596065414636534-535084807</td>\n",
       "      <td>driver-20200716161936-0098-a67f7c4d-218c-44ac-8752-ac0ba21204e1</td>\n",
       "      <td>2020-07-16 16:23:57</td>\n",
       "      <td>[{'name': 'learning_rate', 'dataType': 'double', 'userDefined': False, 'fixedVal': '0.0326022758934446'}]</td>\n",
       "      <td>1</td>\n",
       "      <td>0</td>\n",
       "      <td>0.069694</td>\n",
       "      <td>2020-07-16 16:19:36</td>\n",
       "      <td>FINISHED</td>\n",
       "    </tr>\n",
       "    <tr>\n",
       "      <th>2</th>\n",
       "      <td>Admin-20596071214210818-1914402851</td>\n",
       "      <td>driver-20200716161942-0099-b0811c14-5bdc-4dc2-800f-1d5769ab1399</td>\n",
       "      <td>2020-07-16 16:23:57</td>\n",
       "      <td>[{'name': 'learning_rate', 'dataType': 'double', 'userDefined': False, 'fixedVal': '0.009658941961207125'}]</td>\n",
       "      <td>2</td>\n",
       "      <td>0</td>\n",
       "      <td>0.156826</td>\n",
       "      <td>2020-07-16 16:19:42</td>\n",
       "      <td>FINISHED</td>\n",
       "    </tr>\n",
       "    <tr>\n",
       "      <th>3</th>\n",
       "      <td>Admin-20596077084077847-1161107473</td>\n",
       "      <td>driver-20200716161948-0100-95ed657f-500f-41b3-99b7-f78f9b206af3</td>\n",
       "      <td>2020-07-16 16:23:58</td>\n",
       "      <td>[{'name': 'learning_rate', 'dataType': 'double', 'userDefined': False, 'fixedVal': '0.06235879973901014'}]</td>\n",
       "      <td>3</td>\n",
       "      <td>0</td>\n",
       "      <td>0.049116</td>\n",
       "      <td>2020-07-16 16:19:48</td>\n",
       "      <td>FINISHED</td>\n",
       "    </tr>\n",
       "  </tbody>\n",
       "</table>\n",
       "</div>"
      ],
      "text/plain": [
       "                                appId  \\\n",
       "0   Admin-20596059577795518-282955637   \n",
       "1   Admin-20596065414636534-535084807   \n",
       "2  Admin-20596071214210818-1914402851   \n",
       "3  Admin-20596077084077847-1161107473   \n",
       "\n",
       "                                                          driverId  \\\n",
       "0  driver-20200716161930-0097-7194fc7f-9631-4492-b8ab-0545f937b740   \n",
       "1  driver-20200716161936-0098-a67f7c4d-218c-44ac-8752-ac0ba21204e1   \n",
       "2  driver-20200716161942-0099-b0811c14-5bdc-4dc2-800f-1d5769ab1399   \n",
       "3  driver-20200716161948-0100-95ed657f-500f-41b3-99b7-f78f9b206af3   \n",
       "\n",
       "               endTime  \\\n",
       "0  2020-07-16 16:23:57   \n",
       "1  2020-07-16 16:23:57   \n",
       "2  2020-07-16 16:23:57   \n",
       "3  2020-07-16 16:23:58   \n",
       "\n",
       "                                                                                                   hyperParams  \\\n",
       "0   [{'name': 'learning_rate', 'dataType': 'double', 'userDefined': False, 'fixedVal': '0.03346157010939412'}]   \n",
       "1    [{'name': 'learning_rate', 'dataType': 'double', 'userDefined': False, 'fixedVal': '0.0326022758934446'}]   \n",
       "2  [{'name': 'learning_rate', 'dataType': 'double', 'userDefined': False, 'fixedVal': '0.009658941961207125'}]   \n",
       "3   [{'name': 'learning_rate', 'dataType': 'double', 'userDefined': False, 'fixedVal': '0.06235879973901014'}]   \n",
       "\n",
       "   id  maxiteration  metricVal            startTime     state  \n",
       "0   0             0   0.068464  2020-07-16 16:19:30  FINISHED  \n",
       "1   1             0   0.069694  2020-07-16 16:19:36  FINISHED  \n",
       "2   2             0   0.156826  2020-07-16 16:19:42  FINISHED  \n",
       "3   3             0   0.049116  2020-07-16 16:19:48  FINISHED  "
      ]
     },
     "metadata": {},
     "output_type": "display_data"
    },
    {
     "name": "stdout",
     "output_type": "stream",
     "text": [
      "{ 'best': { 'appId': 'Admin-20596077084077847-1161107473',\n",
      "            'driverId': 'driver-20200716161948-0100-95ed657f-500f-41b3-99b7-f78f9b206af3',\n",
      "            'endTime': '2020-07-16 16:23:58',\n",
      "            'hyperParams': [ { 'dataType': 'double',\n",
      "                               'fixedVal': '0.06235879973901014',\n",
      "                               'name': 'learning_rate',\n",
      "                               'userDefined': False}],\n",
      "            'id': 3,\n",
      "            'maxiteration': 0,\n",
      "            'metricVal': 0.049116130065917966,\n",
      "            'startTime': '2020-07-16 16:19:48',\n",
      "            'state': 'FINISHED'},\n",
      "  'complete': 4,\n",
      "  'createtime': '2020-07-16 16:19:27',\n",
      "  'creator': 'Admin',\n",
      "  'duration': '00:04:31',\n",
      "  'experiments': [ { 'appId': 'Admin-20596059577795518-282955637',\n",
      "                     'driverId': 'driver-20200716161930-0097-7194fc7f-9631-4492-b8ab-0545f937b740',\n",
      "                     'endTime': '2020-07-16 16:23:57',\n",
      "                     'hyperParams': [ { 'dataType': 'double',\n",
      "                                        'fixedVal': '0.03346157010939412',\n",
      "                                        'name': 'learning_rate',\n",
      "                                        'userDefined': False}],\n",
      "                     'id': 0,\n",
      "                     'maxiteration': 0,\n",
      "                     'metricVal': 0.0684640567779541,\n",
      "                     'startTime': '2020-07-16 16:19:30',\n",
      "                     'state': 'FINISHED'},\n",
      "                   { 'appId': 'Admin-20596065414636534-535084807',\n",
      "                     'driverId': 'driver-20200716161936-0098-a67f7c4d-218c-44ac-8752-ac0ba21204e1',\n",
      "                     'endTime': '2020-07-16 16:23:57',\n",
      "                     'hyperParams': [ { 'dataType': 'double',\n",
      "                                        'fixedVal': '0.0326022758934446',\n",
      "                                        'name': 'learning_rate',\n",
      "                                        'userDefined': False}],\n",
      "                     'id': 1,\n",
      "                     'maxiteration': 0,\n",
      "                     'metricVal': 0.0696944766998291,\n",
      "                     'startTime': '2020-07-16 16:19:36',\n",
      "                     'state': 'FINISHED'},\n",
      "                   { 'appId': 'Admin-20596071214210818-1914402851',\n",
      "                     'driverId': 'driver-20200716161942-0099-b0811c14-5bdc-4dc2-800f-1d5769ab1399',\n",
      "                     'endTime': '2020-07-16 16:23:57',\n",
      "                     'hyperParams': [ { 'dataType': 'double',\n",
      "                                        'fixedVal': '0.009658941961207125',\n",
      "                                        'name': 'learning_rate',\n",
      "                                        'userDefined': False}],\n",
      "                     'id': 2,\n",
      "                     'maxiteration': 0,\n",
      "                     'metricVal': 0.15682610931396485,\n",
      "                     'startTime': '2020-07-16 16:19:42',\n",
      "                     'state': 'FINISHED'},\n",
      "                   { 'appId': 'Admin-20596077084077847-1161107473',\n",
      "                     'driverId': 'driver-20200716161948-0100-95ed657f-500f-41b3-99b7-f78f9b206af3',\n",
      "                     'endTime': '2020-07-16 16:23:58',\n",
      "                     'hyperParams': [ { 'dataType': 'double',\n",
      "                                        'fixedVal': '0.06235879973901014',\n",
      "                                        'name': 'learning_rate',\n",
      "                                        'userDefined': False}],\n",
      "                     'id': 3,\n",
      "                     'maxiteration': 0,\n",
      "                     'metricVal': 0.049116130065917966,\n",
      "                     'startTime': '2020-07-16 16:19:48',\n",
      "                     'state': 'FINISHED'}],\n",
      "  'failed': 0,\n",
      "  'hpoName': 'Admin-hpo-20596057193264056',\n",
      "  'progress': '4/4',\n",
      "  'running': 0,\n",
      "  'state': 'FINISHED'}\n"
     ]
    }
   ],
   "source": [
    "getHpoUrl = get_ep('dl') +'/hypersearch/'+ hpo_job_id\n",
    "pp = pprint.PrettyPrinter(indent=2)\n",
    "\n",
    "keep_running=True\n",
    "rr=10\n",
    "res=None\n",
    "while(keep_running):\n",
    "    res = req.get(getHpoUrl, headers=commonHeaders, verify=False, auth=myauth())\n",
    "    experiments=res.json()['experiments']\n",
    "    experiments = pd.DataFrame.from_dict(experiments)\n",
    "    pd.set_option('max_colwidth', 120)\n",
    "    clear_output()\n",
    "    print(\"Refreshing every {} seconds\".format(rr))\n",
    "    display(experiments)\n",
    "    pp.pprint(res.json())\n",
    "    if(res.json()['state'] not in ['SUBMITTED','RUNNING']) :\n",
    "        keep_running=False\n",
    "    time.sleep(rr)"
   ]
  },
  {
   "cell_type": "markdown",
   "metadata": {},
   "source": [
    "### Show the Best Result of HPO Job"
   ]
  },
  {
   "cell_type": "code",
   "execution_count": 10,
   "metadata": {
    "ExecuteTime": {
     "end_time": "2020-05-29T14:31:44.258508Z",
     "start_time": "2020-05-29T14:31:44.249910Z"
    }
   },
   "outputs": [
    {
     "name": "stdout",
     "output_type": "stream",
     "text": [
      "Hpo task Admin-hpo-18774434951753245 completes with state FINISHED\n",
      "Best HPO result ...\n"
     ]
    },
    {
     "data": {
      "text/plain": [
       "{'id': 3,\n",
       " 'hyperParams': [{'name': 'learning_rate',\n",
       "   'dataType': 'double',\n",
       "   'userDefined': False,\n",
       "   'fixedVal': '0.08731352060122094'}],\n",
       " 'state': 'FINISHED',\n",
       " 'metricVal': 0.041620475196838376,\n",
       " 'maxiteration': 0,\n",
       " 'appId': 'Admin-18774455706485225-1434488386',\n",
       " 'driverId': 'driver-20200625141926-0088-b26b4e5c-9ead-481f-b5a8-1b36b1689c13',\n",
       " 'startTime': '2020-06-25 14:19:26',\n",
       " 'endTime': '2020-06-25 14:23:36'}"
      ]
     },
     "execution_count": 10,
     "metadata": {},
     "output_type": "execute_result"
    }
   ],
   "source": [
    "# Lets query our result to see what happened during HPO training!\n",
    "\n",
    "#res.ok\n",
    "#res.json()\n",
    "#print(type(res))\n",
    "#print(dir(res))\n",
    "#print(json.dumps(res.json(), indent=4, sort_keys=True))\n",
    "        \n",
    "print('Hpo task %s completes with state %s'%(hpo_job_id, res.json()['state']))\n",
    "print(\"Best HPO result ...\")\n",
    "res.json()[\"best\"]\n"
   ]
  },
  {
   "cell_type": "markdown",
   "metadata": {},
   "source": [
    "#### Notebook Complete \n",
    "Congratulations, you have completed our demonstration of using WMLA for distributed hyperparameter optimization search"
   ]
  },
  {
   "cell_type": "code",
   "execution_count": null,
   "metadata": {},
   "outputs": [],
   "source": []
  }
 ],
 "metadata": {
  "kernelspec": {
   "display_name": "Python 3.6",
   "language": "python",
   "name": "python3"
  },
  "language_info": {
   "codemirror_mode": {
    "name": "ipython",
    "version": 3
   },
   "file_extension": ".py",
   "mimetype": "text/x-python",
   "name": "python",
   "nbconvert_exporter": "python",
   "pygments_lexer": "ipython3",
   "version": "3.6.8"
  },
  "toc": {
   "base_numbering": 1,
   "nav_menu": {},
   "number_sections": true,
   "sideBar": true,
   "skip_h1_title": false,
   "title_cell": "Table of Contents",
   "title_sidebar": "Contents",
   "toc_cell": false,
   "toc_position": {
    "height": "calc(100% - 180px)",
    "left": "10px",
    "top": "150px",
    "width": "382.2px"
   },
   "toc_section_display": true,
   "toc_window_display": true
  },
  "varInspector": {
   "cols": {
    "lenName": 16,
    "lenType": 16,
    "lenVar": 40
   },
   "kernels_config": {
    "python": {
     "delete_cmd_postfix": "",
     "delete_cmd_prefix": "del ",
     "library": "var_list.py",
     "varRefreshCmd": "print(var_dic_list())"
    },
    "r": {
     "delete_cmd_postfix": ") ",
     "delete_cmd_prefix": "rm(",
     "library": "var_list.r",
     "varRefreshCmd": "cat(var_dic_list()) "
    }
   },
   "types_to_exclude": [
    "module",
    "function",
    "builtin_function_or_method",
    "instance",
    "_Feature"
   ],
   "window_display": false
  }
 },
 "nbformat": 4,
 "nbformat_minor": 2
}
